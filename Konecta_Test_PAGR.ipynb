{
  "nbformat": 4,
  "nbformat_minor": 0,
  "metadata": {
    "colab": {
      "provenance": [],
      "toc_visible": true,
      "authorship_tag": "ABX9TyO4ptXVyQWjsnoA1uoLFeu2",
      "include_colab_link": true
    },
    "kernelspec": {
      "name": "python3",
      "display_name": "Python 3"
    },
    "language_info": {
      "name": "python"
    }
  },
  "cells": [
    {
      "cell_type": "markdown",
      "metadata": {
        "id": "view-in-github",
        "colab_type": "text"
      },
      "source": [
        "<a href=\"https://colab.research.google.com/github/pagrkonecta/Konecta_Test/blob/main/Konecta_Test_PAGR.ipynb\" target=\"_parent\"><img src=\"https://colab.research.google.com/assets/colab-badge.svg\" alt=\"Open In Colab\"/></a>"
      ]
    },
    {
      "cell_type": "markdown",
      "source": [
        "\n",
        "![konecta.jpg](data:image/jpeg;base64,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)\n",
        "\n",
        "#**TECHNICAL TEST FOR THE SELECTION PROCESS OF THE COMPANY KONECTA**\n",
        "#**---------------ANALYST DATA SCIENTIST---------------**\n",
        "\n",
        "#Paola Andrea Giraldo Ramírez \n",
        "#Environmental Engineer\n",
        "#March 2023"
      ],
      "metadata": {
        "id": "5dJcwG3rroAf"
      }
    },
    {
      "cell_type": "markdown",
      "source": [
        "# Problem to be solved\n",
        "In recent years, the credit card issuers in Taiwan faced the cash and credit card debt crisis and the delinquency was expected to peak in the third quarter  of 2006 (Chou,2006). In order to increase market share, card-issuing banks in Taiwan over-issued cash and credit cards to unqualified applicants. At the same time, most cardholders, irrespective of their repayment ability, overused credit cards for consumption and accumulated heavy credit and cash–card debts. The crisis caused a blow to consumer finance confidence and it is a big challenge for both banks and cardholders."
      ],
      "metadata": {
        "id": "TS4zXjYrKQY6"
      }
    },
    {
      "cell_type": "markdown",
      "source": [
        "## Dataset"
      ],
      "metadata": {
        "id": "JB6rAA7-LbdI"
      }
    },
    {
      "cell_type": "markdown",
      "source": [
        "This data were colected between April and September 2005, from an importan bank in Taiwan which issues both cash and credit cards. The researchers used a binary variable to represent default payment, where Yes was coded as 1 and No was coded as 0. This variable was considered the response variable in the study. The dataset contains 30000 total number of instances. The data will be download and imported from UCI ML repository: \n",
        "\n",
        "https://archive.ics.uci.edu/ml/datasets/default+of+credit+card+clients \n"
      ],
      "metadata": {
        "id": "X3_kjRhQNpAO"
      }
    },
    {
      "cell_type": "markdown",
      "source": [
        "### Variables"
      ],
      "metadata": {
        "id": "j7tQQGPuTzeI"
      }
    },
    {
      "cell_type": "markdown",
      "source": [
        "This dataset has 24 variables, in which 23 are explanatory variables, and one which is the variable to be predicted some are user personal information, other related with amount of bill statement and the amount of previous payment in a specific month. Each variable will be described below: \n",
        "_______________________________________________\n",
        "*Variable to be predicted:*\n",
        "\n",
        "*   **default payment next month**: Refers to credit card holders are defaulters or non-defaulters (1 = yes; 0 = no)\n",
        "\n",
        "_______________________________________________\n",
        "*User personal information:*\n",
        "\n",
        "*   **ID**: Identity of each client (From 1 to 3000) - Categorical variable.\n",
        "*   **LIMIT_BAL**: Total credit (Between 1000 and 1000000, given in Taiwan Dollars) it includes both the individual consumer credit and his/her family (supplementary) credit.\n",
        "*   **SEX**: Gender (1 = Male; 2 = Female) - Categorical variable.\n",
        "*   **EDUCATION**: Level of education (1 = Graduate school; 2 = University; 3 = High school; 4 = Others).\n",
        "*   **MARRIAGE**: Marital status (1 = married; 2 = single; 3 = others) - Categorical variable.\n",
        "*   **AGE**: Age in years - Numerical variable.\n",
        "\n",
        "_______________________________________________\n",
        "*History of past payments (This variables track the past monthly payment records, i.e. the delay of the payment referred to a specific month):* \n",
        "\n",
        "*   **PAY_0**: Repayment status in September  \n",
        "*   **PAY_2**: Repayment status in August\n",
        "*   **PAY_3**: Repayment status in July\n",
        "*   **PAY_4**: Repayment status in June\n",
        "*   **PAY_5**: Repayment status in May\n",
        "*   **PAY_6**: Repayment status in April\n",
        "\n",
        "*(The measurement scale for the repayment status is: -1 = pay duly; 1 = payment delay for one month; 2 = payment delay for two months; . . .; 8 = payment delay for eight months; 9 = payment delay for nine months and above)*\n",
        "\n",
        "\n",
        "_______________________________________________\n",
        "*Amount of bill statement:*\n",
        "\n",
        "*   **BILL_AMT1**: Amount of bill statement in September\n",
        "*   **BILL_AMT2**: Amount of bill statement in August\n",
        "*   **BILL_AMT**: Amount of bill statement in July\n",
        "*   **BILL_AMT4**: Amount of bill statement in Jun\n",
        "*   **BILL_AMT5**: Amount of bill statement in May\n",
        "*   **BILL_AMT6**: Amount of bill statement in April\n",
        "\n",
        "*(New Taiwan dollar)*\n",
        "\n",
        "\n",
        "_______________________________________________\n",
        "*amount of previous payment:*\n",
        "\n",
        "*   **PAY_AMT1**: Amount of previous payment in September\n",
        "*   **PAY_AMT2**: Amount of previous payment in August\n",
        "*   **PAY_AMT3**: Amount of previous payment in July\n",
        "*   **PAY_AMT4**: Amount of previous payment in June\n",
        "*   **PAY_AMT5**: Amount of previous payment in May\n",
        "*   **PAY_AMT6**: Amount of previous payment in April\n",
        "\n",
        "*(New Taiwan dollar)*\n",
        "\n"
      ],
      "metadata": {
        "id": "JeYmC41rXSMw"
      }
    },
    {
      "cell_type": "markdown",
      "source": [
        "# Solution"
      ],
      "metadata": {
        "id": "mn2NrLaJY1i5"
      }
    },
    {
      "cell_type": "markdown",
      "source": [
        "### Import libraries/packages"
      ],
      "metadata": {
        "id": "yB1pfyysaZhJ"
      }
    },
    {
      "cell_type": "code",
      "source": [
        "# Data treatment\n",
        "# ==============================================================================\n",
        "import numpy as np\n",
        "import pandas as pd\n",
        "\n",
        "# Plots\n",
        "# ==============================================================================\n",
        "import matplotlib.pyplot as plt\n",
        "import seaborn as sns\n",
        "from matplotlib.colors import ListedColormap\n",
        "\n",
        "# Preprocessing and modeling\n",
        "# ==============================================================================\n",
        "#from sklearn.datasets import load_boston\n",
        "from sklearn.tree import DecisionTreeRegressor\n",
        "from sklearn.ensemble import AdaBoostRegressor\n",
        "from sklearn.ensemble import BaggingRegressor\n",
        "from sklearn.ensemble import RandomForestRegressor\n",
        "from sklearn.ensemble import GradientBoostingRegressor\n",
        "from sklearn.ensemble import ExtraTreesRegressor\n",
        "\n",
        "\n",
        "from sklearn.metrics import mean_squared_error\n",
        "from sklearn.model_selection import cross_val_score\n",
        "from sklearn.model_selection import train_test_split\n",
        "from sklearn.model_selection import GridSearchCV\n",
        "from sklearn.model_selection import ParameterGrid\n",
        "from sklearn.inspection import permutation_importance\n",
        "\n",
        "# Configuración warnings\n",
        "# ==============================================================================\n",
        "import warnings\n",
        "warnings.filterwarnings('once')\n",
        "\n",
        "# Conect to Colab \n",
        "# ==============================================================================\n",
        "from google.colab import drive\n",
        "from google.colab import files"
      ],
      "metadata": {
        "id": "q4UovJGDGCRv"
      },
      "execution_count": 18,
      "outputs": []
    },
    {
      "cell_type": "markdown",
      "source": [
        "## Data"
      ],
      "metadata": {
        "id": "B17_6QWCZsRo"
      }
    },
    {
      "cell_type": "markdown",
      "source": [
        "### Download data"
      ],
      "metadata": {
        "id": "XIbNtAJDZ3Vd"
      }
    },
    {
      "cell_type": "code",
      "source": [
        "drive.mount('/content/drive')\n",
        "df = pd.read_excel(\"/content/drive/MyDrive/default of credit card clients.xls\", skiprows = [0])\n",
        "df.head()"
      ],
      "metadata": {
        "colab": {
          "base_uri": "https://localhost:8080/",
          "height": 370
        },
        "id": "FuiB2kk-7nwh",
        "outputId": "3da90b1d-ea6d-4bba-d5a9-b2e6bca1c551"
      },
      "execution_count": 19,
      "outputs": [
        {
          "output_type": "stream",
          "name": "stdout",
          "text": [
            "Drive already mounted at /content/drive; to attempt to forcibly remount, call drive.mount(\"/content/drive\", force_remount=True).\n"
          ]
        },
        {
          "output_type": "execute_result",
          "data": {
            "text/plain": [
              "   ID  LIMIT_BAL  SEX  EDUCATION  MARRIAGE  AGE  PAY_0  PAY_2  PAY_3  PAY_4  \\\n",
              "0   1      20000    2          2         1   24      2      2     -1     -1   \n",
              "1   2     120000    2          2         2   26     -1      2      0      0   \n",
              "2   3      90000    2          2         2   34      0      0      0      0   \n",
              "3   4      50000    2          2         1   37      0      0      0      0   \n",
              "4   5      50000    1          2         1   57     -1      0     -1      0   \n",
              "\n",
              "   ...  BILL_AMT4  BILL_AMT5  BILL_AMT6  PAY_AMT1  PAY_AMT2  PAY_AMT3  \\\n",
              "0  ...          0          0          0         0       689         0   \n",
              "1  ...       3272       3455       3261         0      1000      1000   \n",
              "2  ...      14331      14948      15549      1518      1500      1000   \n",
              "3  ...      28314      28959      29547      2000      2019      1200   \n",
              "4  ...      20940      19146      19131      2000     36681     10000   \n",
              "\n",
              "   PAY_AMT4  PAY_AMT5  PAY_AMT6  default payment next month  \n",
              "0         0         0         0                           1  \n",
              "1      1000         0      2000                           1  \n",
              "2      1000      1000      5000                           0  \n",
              "3      1100      1069      1000                           0  \n",
              "4      9000       689       679                           0  \n",
              "\n",
              "[5 rows x 25 columns]"
            ],
            "text/html": [
              "\n",
              "  <div id=\"df-eb0a870b-4fe2-485c-acbd-0a08180dad81\">\n",
              "    <div class=\"colab-df-container\">\n",
              "      <div>\n",
              "<style scoped>\n",
              "    .dataframe tbody tr th:only-of-type {\n",
              "        vertical-align: middle;\n",
              "    }\n",
              "\n",
              "    .dataframe tbody tr th {\n",
              "        vertical-align: top;\n",
              "    }\n",
              "\n",
              "    .dataframe thead th {\n",
              "        text-align: right;\n",
              "    }\n",
              "</style>\n",
              "<table border=\"1\" class=\"dataframe\">\n",
              "  <thead>\n",
              "    <tr style=\"text-align: right;\">\n",
              "      <th></th>\n",
              "      <th>ID</th>\n",
              "      <th>LIMIT_BAL</th>\n",
              "      <th>SEX</th>\n",
              "      <th>EDUCATION</th>\n",
              "      <th>MARRIAGE</th>\n",
              "      <th>AGE</th>\n",
              "      <th>PAY_0</th>\n",
              "      <th>PAY_2</th>\n",
              "      <th>PAY_3</th>\n",
              "      <th>PAY_4</th>\n",
              "      <th>...</th>\n",
              "      <th>BILL_AMT4</th>\n",
              "      <th>BILL_AMT5</th>\n",
              "      <th>BILL_AMT6</th>\n",
              "      <th>PAY_AMT1</th>\n",
              "      <th>PAY_AMT2</th>\n",
              "      <th>PAY_AMT3</th>\n",
              "      <th>PAY_AMT4</th>\n",
              "      <th>PAY_AMT5</th>\n",
              "      <th>PAY_AMT6</th>\n",
              "      <th>default payment next month</th>\n",
              "    </tr>\n",
              "  </thead>\n",
              "  <tbody>\n",
              "    <tr>\n",
              "      <th>0</th>\n",
              "      <td>1</td>\n",
              "      <td>20000</td>\n",
              "      <td>2</td>\n",
              "      <td>2</td>\n",
              "      <td>1</td>\n",
              "      <td>24</td>\n",
              "      <td>2</td>\n",
              "      <td>2</td>\n",
              "      <td>-1</td>\n",
              "      <td>-1</td>\n",
              "      <td>...</td>\n",
              "      <td>0</td>\n",
              "      <td>0</td>\n",
              "      <td>0</td>\n",
              "      <td>0</td>\n",
              "      <td>689</td>\n",
              "      <td>0</td>\n",
              "      <td>0</td>\n",
              "      <td>0</td>\n",
              "      <td>0</td>\n",
              "      <td>1</td>\n",
              "    </tr>\n",
              "    <tr>\n",
              "      <th>1</th>\n",
              "      <td>2</td>\n",
              "      <td>120000</td>\n",
              "      <td>2</td>\n",
              "      <td>2</td>\n",
              "      <td>2</td>\n",
              "      <td>26</td>\n",
              "      <td>-1</td>\n",
              "      <td>2</td>\n",
              "      <td>0</td>\n",
              "      <td>0</td>\n",
              "      <td>...</td>\n",
              "      <td>3272</td>\n",
              "      <td>3455</td>\n",
              "      <td>3261</td>\n",
              "      <td>0</td>\n",
              "      <td>1000</td>\n",
              "      <td>1000</td>\n",
              "      <td>1000</td>\n",
              "      <td>0</td>\n",
              "      <td>2000</td>\n",
              "      <td>1</td>\n",
              "    </tr>\n",
              "    <tr>\n",
              "      <th>2</th>\n",
              "      <td>3</td>\n",
              "      <td>90000</td>\n",
              "      <td>2</td>\n",
              "      <td>2</td>\n",
              "      <td>2</td>\n",
              "      <td>34</td>\n",
              "      <td>0</td>\n",
              "      <td>0</td>\n",
              "      <td>0</td>\n",
              "      <td>0</td>\n",
              "      <td>...</td>\n",
              "      <td>14331</td>\n",
              "      <td>14948</td>\n",
              "      <td>15549</td>\n",
              "      <td>1518</td>\n",
              "      <td>1500</td>\n",
              "      <td>1000</td>\n",
              "      <td>1000</td>\n",
              "      <td>1000</td>\n",
              "      <td>5000</td>\n",
              "      <td>0</td>\n",
              "    </tr>\n",
              "    <tr>\n",
              "      <th>3</th>\n",
              "      <td>4</td>\n",
              "      <td>50000</td>\n",
              "      <td>2</td>\n",
              "      <td>2</td>\n",
              "      <td>1</td>\n",
              "      <td>37</td>\n",
              "      <td>0</td>\n",
              "      <td>0</td>\n",
              "      <td>0</td>\n",
              "      <td>0</td>\n",
              "      <td>...</td>\n",
              "      <td>28314</td>\n",
              "      <td>28959</td>\n",
              "      <td>29547</td>\n",
              "      <td>2000</td>\n",
              "      <td>2019</td>\n",
              "      <td>1200</td>\n",
              "      <td>1100</td>\n",
              "      <td>1069</td>\n",
              "      <td>1000</td>\n",
              "      <td>0</td>\n",
              "    </tr>\n",
              "    <tr>\n",
              "      <th>4</th>\n",
              "      <td>5</td>\n",
              "      <td>50000</td>\n",
              "      <td>1</td>\n",
              "      <td>2</td>\n",
              "      <td>1</td>\n",
              "      <td>57</td>\n",
              "      <td>-1</td>\n",
              "      <td>0</td>\n",
              "      <td>-1</td>\n",
              "      <td>0</td>\n",
              "      <td>...</td>\n",
              "      <td>20940</td>\n",
              "      <td>19146</td>\n",
              "      <td>19131</td>\n",
              "      <td>2000</td>\n",
              "      <td>36681</td>\n",
              "      <td>10000</td>\n",
              "      <td>9000</td>\n",
              "      <td>689</td>\n",
              "      <td>679</td>\n",
              "      <td>0</td>\n",
              "    </tr>\n",
              "  </tbody>\n",
              "</table>\n",
              "<p>5 rows × 25 columns</p>\n",
              "</div>\n",
              "      <button class=\"colab-df-convert\" onclick=\"convertToInteractive('df-eb0a870b-4fe2-485c-acbd-0a08180dad81')\"\n",
              "              title=\"Convert this dataframe to an interactive table.\"\n",
              "              style=\"display:none;\">\n",
              "        \n",
              "  <svg xmlns=\"http://www.w3.org/2000/svg\" height=\"24px\"viewBox=\"0 0 24 24\"\n",
              "       width=\"24px\">\n",
              "    <path d=\"M0 0h24v24H0V0z\" fill=\"none\"/>\n",
              "    <path d=\"M18.56 5.44l.94 2.06.94-2.06 2.06-.94-2.06-.94-.94-2.06-.94 2.06-2.06.94zm-11 1L8.5 8.5l.94-2.06 2.06-.94-2.06-.94L8.5 2.5l-.94 2.06-2.06.94zm10 10l.94 2.06.94-2.06 2.06-.94-2.06-.94-.94-2.06-.94 2.06-2.06.94z\"/><path d=\"M17.41 7.96l-1.37-1.37c-.4-.4-.92-.59-1.43-.59-.52 0-1.04.2-1.43.59L10.3 9.45l-7.72 7.72c-.78.78-.78 2.05 0 2.83L4 21.41c.39.39.9.59 1.41.59.51 0 1.02-.2 1.41-.59l7.78-7.78 2.81-2.81c.8-.78.8-2.07 0-2.86zM5.41 20L4 18.59l7.72-7.72 1.47 1.35L5.41 20z\"/>\n",
              "  </svg>\n",
              "      </button>\n",
              "      \n",
              "  <style>\n",
              "    .colab-df-container {\n",
              "      display:flex;\n",
              "      flex-wrap:wrap;\n",
              "      gap: 12px;\n",
              "    }\n",
              "\n",
              "    .colab-df-convert {\n",
              "      background-color: #E8F0FE;\n",
              "      border: none;\n",
              "      border-radius: 50%;\n",
              "      cursor: pointer;\n",
              "      display: none;\n",
              "      fill: #1967D2;\n",
              "      height: 32px;\n",
              "      padding: 0 0 0 0;\n",
              "      width: 32px;\n",
              "    }\n",
              "\n",
              "    .colab-df-convert:hover {\n",
              "      background-color: #E2EBFA;\n",
              "      box-shadow: 0px 1px 2px rgba(60, 64, 67, 0.3), 0px 1px 3px 1px rgba(60, 64, 67, 0.15);\n",
              "      fill: #174EA6;\n",
              "    }\n",
              "\n",
              "    [theme=dark] .colab-df-convert {\n",
              "      background-color: #3B4455;\n",
              "      fill: #D2E3FC;\n",
              "    }\n",
              "\n",
              "    [theme=dark] .colab-df-convert:hover {\n",
              "      background-color: #434B5C;\n",
              "      box-shadow: 0px 1px 3px 1px rgba(0, 0, 0, 0.15);\n",
              "      filter: drop-shadow(0px 1px 2px rgba(0, 0, 0, 0.3));\n",
              "      fill: #FFFFFF;\n",
              "    }\n",
              "  </style>\n",
              "\n",
              "      <script>\n",
              "        const buttonEl =\n",
              "          document.querySelector('#df-eb0a870b-4fe2-485c-acbd-0a08180dad81 button.colab-df-convert');\n",
              "        buttonEl.style.display =\n",
              "          google.colab.kernel.accessAllowed ? 'block' : 'none';\n",
              "\n",
              "        async function convertToInteractive(key) {\n",
              "          const element = document.querySelector('#df-eb0a870b-4fe2-485c-acbd-0a08180dad81');\n",
              "          const dataTable =\n",
              "            await google.colab.kernel.invokeFunction('convertToInteractive',\n",
              "                                                     [key], {});\n",
              "          if (!dataTable) return;\n",
              "\n",
              "          const docLinkHtml = 'Like what you see? Visit the ' +\n",
              "            '<a target=\"_blank\" href=https://colab.research.google.com/notebooks/data_table.ipynb>data table notebook</a>'\n",
              "            + ' to learn more about interactive tables.';\n",
              "          element.innerHTML = '';\n",
              "          dataTable['output_type'] = 'display_data';\n",
              "          await google.colab.output.renderOutput(dataTable, element);\n",
              "          const docLink = document.createElement('div');\n",
              "          docLink.innerHTML = docLinkHtml;\n",
              "          element.appendChild(docLink);\n",
              "        }\n",
              "      </script>\n",
              "    </div>\n",
              "  </div>\n",
              "  "
            ]
          },
          "metadata": {},
          "execution_count": 19
        }
      ]
    },
    {
      "cell_type": "code",
      "source": [
        "# creat a copy in case we need variables in the format of number for analysis\n",
        "df_original=df.copy()"
      ],
      "metadata": {
        "id": "cNPvX51jAwi9"
      },
      "execution_count": 20,
      "outputs": []
    },
    {
      "cell_type": "markdown",
      "source": [
        "### EDA"
      ],
      "metadata": {
        "id": "cEAX47GU7C0L"
      }
    },
    {
      "cell_type": "code",
      "source": [
        "df.describe().T"
      ],
      "metadata": {
        "colab": {
          "base_uri": "https://localhost:8080/",
          "height": 833
        },
        "id": "1jaVCB6o7v6_",
        "outputId": "47348a7b-cdd3-415b-ed0b-dbf6edfa049e"
      },
      "execution_count": 21,
      "outputs": [
        {
          "output_type": "execute_result",
          "data": {
            "text/plain": [
              "                              count           mean            std       min  \\\n",
              "ID                          30000.0   15000.500000    8660.398374       1.0   \n",
              "LIMIT_BAL                   30000.0  167484.322667  129747.661567   10000.0   \n",
              "SEX                         30000.0       1.603733       0.489129       1.0   \n",
              "EDUCATION                   30000.0       1.853133       0.790349       0.0   \n",
              "MARRIAGE                    30000.0       1.551867       0.521970       0.0   \n",
              "AGE                         30000.0      35.485500       9.217904      21.0   \n",
              "PAY_0                       30000.0      -0.016700       1.123802      -2.0   \n",
              "PAY_2                       30000.0      -0.133767       1.197186      -2.0   \n",
              "PAY_3                       30000.0      -0.166200       1.196868      -2.0   \n",
              "PAY_4                       30000.0      -0.220667       1.169139      -2.0   \n",
              "PAY_5                       30000.0      -0.266200       1.133187      -2.0   \n",
              "PAY_6                       30000.0      -0.291100       1.149988      -2.0   \n",
              "BILL_AMT1                   30000.0   51223.330900   73635.860576 -165580.0   \n",
              "BILL_AMT2                   30000.0   49179.075167   71173.768783  -69777.0   \n",
              "BILL_AMT3                   30000.0   47013.154800   69349.387427 -157264.0   \n",
              "BILL_AMT4                   30000.0   43262.948967   64332.856134 -170000.0   \n",
              "BILL_AMT5                   30000.0   40311.400967   60797.155770  -81334.0   \n",
              "BILL_AMT6                   30000.0   38871.760400   59554.107537 -339603.0   \n",
              "PAY_AMT1                    30000.0    5663.580500   16563.280354       0.0   \n",
              "PAY_AMT2                    30000.0    5921.163500   23040.870402       0.0   \n",
              "PAY_AMT3                    30000.0    5225.681500   17606.961470       0.0   \n",
              "PAY_AMT4                    30000.0    4826.076867   15666.159744       0.0   \n",
              "PAY_AMT5                    30000.0    4799.387633   15278.305679       0.0   \n",
              "PAY_AMT6                    30000.0    5215.502567   17777.465775       0.0   \n",
              "default payment next month  30000.0       0.221200       0.415062       0.0   \n",
              "\n",
              "                                 25%       50%        75%        max  \n",
              "ID                           7500.75   15000.5   22500.25    30000.0  \n",
              "LIMIT_BAL                   50000.00  140000.0  240000.00  1000000.0  \n",
              "SEX                             1.00       2.0       2.00        2.0  \n",
              "EDUCATION                       1.00       2.0       2.00        6.0  \n",
              "MARRIAGE                        1.00       2.0       2.00        3.0  \n",
              "AGE                            28.00      34.0      41.00       79.0  \n",
              "PAY_0                          -1.00       0.0       0.00        8.0  \n",
              "PAY_2                          -1.00       0.0       0.00        8.0  \n",
              "PAY_3                          -1.00       0.0       0.00        8.0  \n",
              "PAY_4                          -1.00       0.0       0.00        8.0  \n",
              "PAY_5                          -1.00       0.0       0.00        8.0  \n",
              "PAY_6                          -1.00       0.0       0.00        8.0  \n",
              "BILL_AMT1                    3558.75   22381.5   67091.00   964511.0  \n",
              "BILL_AMT2                    2984.75   21200.0   64006.25   983931.0  \n",
              "BILL_AMT3                    2666.25   20088.5   60164.75  1664089.0  \n",
              "BILL_AMT4                    2326.75   19052.0   54506.00   891586.0  \n",
              "BILL_AMT5                    1763.00   18104.5   50190.50   927171.0  \n",
              "BILL_AMT6                    1256.00   17071.0   49198.25   961664.0  \n",
              "PAY_AMT1                     1000.00    2100.0    5006.00   873552.0  \n",
              "PAY_AMT2                      833.00    2009.0    5000.00  1684259.0  \n",
              "PAY_AMT3                      390.00    1800.0    4505.00   896040.0  \n",
              "PAY_AMT4                      296.00    1500.0    4013.25   621000.0  \n",
              "PAY_AMT5                      252.50    1500.0    4031.50   426529.0  \n",
              "PAY_AMT6                      117.75    1500.0    4000.00   528666.0  \n",
              "default payment next month      0.00       0.0       0.00        1.0  "
            ],
            "text/html": [
              "\n",
              "  <div id=\"df-c074e9ac-c9a9-4d8d-b29f-7d4cd40d446c\">\n",
              "    <div class=\"colab-df-container\">\n",
              "      <div>\n",
              "<style scoped>\n",
              "    .dataframe tbody tr th:only-of-type {\n",
              "        vertical-align: middle;\n",
              "    }\n",
              "\n",
              "    .dataframe tbody tr th {\n",
              "        vertical-align: top;\n",
              "    }\n",
              "\n",
              "    .dataframe thead th {\n",
              "        text-align: right;\n",
              "    }\n",
              "</style>\n",
              "<table border=\"1\" class=\"dataframe\">\n",
              "  <thead>\n",
              "    <tr style=\"text-align: right;\">\n",
              "      <th></th>\n",
              "      <th>count</th>\n",
              "      <th>mean</th>\n",
              "      <th>std</th>\n",
              "      <th>min</th>\n",
              "      <th>25%</th>\n",
              "      <th>50%</th>\n",
              "      <th>75%</th>\n",
              "      <th>max</th>\n",
              "    </tr>\n",
              "  </thead>\n",
              "  <tbody>\n",
              "    <tr>\n",
              "      <th>ID</th>\n",
              "      <td>30000.0</td>\n",
              "      <td>15000.500000</td>\n",
              "      <td>8660.398374</td>\n",
              "      <td>1.0</td>\n",
              "      <td>7500.75</td>\n",
              "      <td>15000.5</td>\n",
              "      <td>22500.25</td>\n",
              "      <td>30000.0</td>\n",
              "    </tr>\n",
              "    <tr>\n",
              "      <th>LIMIT_BAL</th>\n",
              "      <td>30000.0</td>\n",
              "      <td>167484.322667</td>\n",
              "      <td>129747.661567</td>\n",
              "      <td>10000.0</td>\n",
              "      <td>50000.00</td>\n",
              "      <td>140000.0</td>\n",
              "      <td>240000.00</td>\n",
              "      <td>1000000.0</td>\n",
              "    </tr>\n",
              "    <tr>\n",
              "      <th>SEX</th>\n",
              "      <td>30000.0</td>\n",
              "      <td>1.603733</td>\n",
              "      <td>0.489129</td>\n",
              "      <td>1.0</td>\n",
              "      <td>1.00</td>\n",
              "      <td>2.0</td>\n",
              "      <td>2.00</td>\n",
              "      <td>2.0</td>\n",
              "    </tr>\n",
              "    <tr>\n",
              "      <th>EDUCATION</th>\n",
              "      <td>30000.0</td>\n",
              "      <td>1.853133</td>\n",
              "      <td>0.790349</td>\n",
              "      <td>0.0</td>\n",
              "      <td>1.00</td>\n",
              "      <td>2.0</td>\n",
              "      <td>2.00</td>\n",
              "      <td>6.0</td>\n",
              "    </tr>\n",
              "    <tr>\n",
              "      <th>MARRIAGE</th>\n",
              "      <td>30000.0</td>\n",
              "      <td>1.551867</td>\n",
              "      <td>0.521970</td>\n",
              "      <td>0.0</td>\n",
              "      <td>1.00</td>\n",
              "      <td>2.0</td>\n",
              "      <td>2.00</td>\n",
              "      <td>3.0</td>\n",
              "    </tr>\n",
              "    <tr>\n",
              "      <th>AGE</th>\n",
              "      <td>30000.0</td>\n",
              "      <td>35.485500</td>\n",
              "      <td>9.217904</td>\n",
              "      <td>21.0</td>\n",
              "      <td>28.00</td>\n",
              "      <td>34.0</td>\n",
              "      <td>41.00</td>\n",
              "      <td>79.0</td>\n",
              "    </tr>\n",
              "    <tr>\n",
              "      <th>PAY_0</th>\n",
              "      <td>30000.0</td>\n",
              "      <td>-0.016700</td>\n",
              "      <td>1.123802</td>\n",
              "      <td>-2.0</td>\n",
              "      <td>-1.00</td>\n",
              "      <td>0.0</td>\n",
              "      <td>0.00</td>\n",
              "      <td>8.0</td>\n",
              "    </tr>\n",
              "    <tr>\n",
              "      <th>PAY_2</th>\n",
              "      <td>30000.0</td>\n",
              "      <td>-0.133767</td>\n",
              "      <td>1.197186</td>\n",
              "      <td>-2.0</td>\n",
              "      <td>-1.00</td>\n",
              "      <td>0.0</td>\n",
              "      <td>0.00</td>\n",
              "      <td>8.0</td>\n",
              "    </tr>\n",
              "    <tr>\n",
              "      <th>PAY_3</th>\n",
              "      <td>30000.0</td>\n",
              "      <td>-0.166200</td>\n",
              "      <td>1.196868</td>\n",
              "      <td>-2.0</td>\n",
              "      <td>-1.00</td>\n",
              "      <td>0.0</td>\n",
              "      <td>0.00</td>\n",
              "      <td>8.0</td>\n",
              "    </tr>\n",
              "    <tr>\n",
              "      <th>PAY_4</th>\n",
              "      <td>30000.0</td>\n",
              "      <td>-0.220667</td>\n",
              "      <td>1.169139</td>\n",
              "      <td>-2.0</td>\n",
              "      <td>-1.00</td>\n",
              "      <td>0.0</td>\n",
              "      <td>0.00</td>\n",
              "      <td>8.0</td>\n",
              "    </tr>\n",
              "    <tr>\n",
              "      <th>PAY_5</th>\n",
              "      <td>30000.0</td>\n",
              "      <td>-0.266200</td>\n",
              "      <td>1.133187</td>\n",
              "      <td>-2.0</td>\n",
              "      <td>-1.00</td>\n",
              "      <td>0.0</td>\n",
              "      <td>0.00</td>\n",
              "      <td>8.0</td>\n",
              "    </tr>\n",
              "    <tr>\n",
              "      <th>PAY_6</th>\n",
              "      <td>30000.0</td>\n",
              "      <td>-0.291100</td>\n",
              "      <td>1.149988</td>\n",
              "      <td>-2.0</td>\n",
              "      <td>-1.00</td>\n",
              "      <td>0.0</td>\n",
              "      <td>0.00</td>\n",
              "      <td>8.0</td>\n",
              "    </tr>\n",
              "    <tr>\n",
              "      <th>BILL_AMT1</th>\n",
              "      <td>30000.0</td>\n",
              "      <td>51223.330900</td>\n",
              "      <td>73635.860576</td>\n",
              "      <td>-165580.0</td>\n",
              "      <td>3558.75</td>\n",
              "      <td>22381.5</td>\n",
              "      <td>67091.00</td>\n",
              "      <td>964511.0</td>\n",
              "    </tr>\n",
              "    <tr>\n",
              "      <th>BILL_AMT2</th>\n",
              "      <td>30000.0</td>\n",
              "      <td>49179.075167</td>\n",
              "      <td>71173.768783</td>\n",
              "      <td>-69777.0</td>\n",
              "      <td>2984.75</td>\n",
              "      <td>21200.0</td>\n",
              "      <td>64006.25</td>\n",
              "      <td>983931.0</td>\n",
              "    </tr>\n",
              "    <tr>\n",
              "      <th>BILL_AMT3</th>\n",
              "      <td>30000.0</td>\n",
              "      <td>47013.154800</td>\n",
              "      <td>69349.387427</td>\n",
              "      <td>-157264.0</td>\n",
              "      <td>2666.25</td>\n",
              "      <td>20088.5</td>\n",
              "      <td>60164.75</td>\n",
              "      <td>1664089.0</td>\n",
              "    </tr>\n",
              "    <tr>\n",
              "      <th>BILL_AMT4</th>\n",
              "      <td>30000.0</td>\n",
              "      <td>43262.948967</td>\n",
              "      <td>64332.856134</td>\n",
              "      <td>-170000.0</td>\n",
              "      <td>2326.75</td>\n",
              "      <td>19052.0</td>\n",
              "      <td>54506.00</td>\n",
              "      <td>891586.0</td>\n",
              "    </tr>\n",
              "    <tr>\n",
              "      <th>BILL_AMT5</th>\n",
              "      <td>30000.0</td>\n",
              "      <td>40311.400967</td>\n",
              "      <td>60797.155770</td>\n",
              "      <td>-81334.0</td>\n",
              "      <td>1763.00</td>\n",
              "      <td>18104.5</td>\n",
              "      <td>50190.50</td>\n",
              "      <td>927171.0</td>\n",
              "    </tr>\n",
              "    <tr>\n",
              "      <th>BILL_AMT6</th>\n",
              "      <td>30000.0</td>\n",
              "      <td>38871.760400</td>\n",
              "      <td>59554.107537</td>\n",
              "      <td>-339603.0</td>\n",
              "      <td>1256.00</td>\n",
              "      <td>17071.0</td>\n",
              "      <td>49198.25</td>\n",
              "      <td>961664.0</td>\n",
              "    </tr>\n",
              "    <tr>\n",
              "      <th>PAY_AMT1</th>\n",
              "      <td>30000.0</td>\n",
              "      <td>5663.580500</td>\n",
              "      <td>16563.280354</td>\n",
              "      <td>0.0</td>\n",
              "      <td>1000.00</td>\n",
              "      <td>2100.0</td>\n",
              "      <td>5006.00</td>\n",
              "      <td>873552.0</td>\n",
              "    </tr>\n",
              "    <tr>\n",
              "      <th>PAY_AMT2</th>\n",
              "      <td>30000.0</td>\n",
              "      <td>5921.163500</td>\n",
              "      <td>23040.870402</td>\n",
              "      <td>0.0</td>\n",
              "      <td>833.00</td>\n",
              "      <td>2009.0</td>\n",
              "      <td>5000.00</td>\n",
              "      <td>1684259.0</td>\n",
              "    </tr>\n",
              "    <tr>\n",
              "      <th>PAY_AMT3</th>\n",
              "      <td>30000.0</td>\n",
              "      <td>5225.681500</td>\n",
              "      <td>17606.961470</td>\n",
              "      <td>0.0</td>\n",
              "      <td>390.00</td>\n",
              "      <td>1800.0</td>\n",
              "      <td>4505.00</td>\n",
              "      <td>896040.0</td>\n",
              "    </tr>\n",
              "    <tr>\n",
              "      <th>PAY_AMT4</th>\n",
              "      <td>30000.0</td>\n",
              "      <td>4826.076867</td>\n",
              "      <td>15666.159744</td>\n",
              "      <td>0.0</td>\n",
              "      <td>296.00</td>\n",
              "      <td>1500.0</td>\n",
              "      <td>4013.25</td>\n",
              "      <td>621000.0</td>\n",
              "    </tr>\n",
              "    <tr>\n",
              "      <th>PAY_AMT5</th>\n",
              "      <td>30000.0</td>\n",
              "      <td>4799.387633</td>\n",
              "      <td>15278.305679</td>\n",
              "      <td>0.0</td>\n",
              "      <td>252.50</td>\n",
              "      <td>1500.0</td>\n",
              "      <td>4031.50</td>\n",
              "      <td>426529.0</td>\n",
              "    </tr>\n",
              "    <tr>\n",
              "      <th>PAY_AMT6</th>\n",
              "      <td>30000.0</td>\n",
              "      <td>5215.502567</td>\n",
              "      <td>17777.465775</td>\n",
              "      <td>0.0</td>\n",
              "      <td>117.75</td>\n",
              "      <td>1500.0</td>\n",
              "      <td>4000.00</td>\n",
              "      <td>528666.0</td>\n",
              "    </tr>\n",
              "    <tr>\n",
              "      <th>default payment next month</th>\n",
              "      <td>30000.0</td>\n",
              "      <td>0.221200</td>\n",
              "      <td>0.415062</td>\n",
              "      <td>0.0</td>\n",
              "      <td>0.00</td>\n",
              "      <td>0.0</td>\n",
              "      <td>0.00</td>\n",
              "      <td>1.0</td>\n",
              "    </tr>\n",
              "  </tbody>\n",
              "</table>\n",
              "</div>\n",
              "      <button class=\"colab-df-convert\" onclick=\"convertToInteractive('df-c074e9ac-c9a9-4d8d-b29f-7d4cd40d446c')\"\n",
              "              title=\"Convert this dataframe to an interactive table.\"\n",
              "              style=\"display:none;\">\n",
              "        \n",
              "  <svg xmlns=\"http://www.w3.org/2000/svg\" height=\"24px\"viewBox=\"0 0 24 24\"\n",
              "       width=\"24px\">\n",
              "    <path d=\"M0 0h24v24H0V0z\" fill=\"none\"/>\n",
              "    <path d=\"M18.56 5.44l.94 2.06.94-2.06 2.06-.94-2.06-.94-.94-2.06-.94 2.06-2.06.94zm-11 1L8.5 8.5l.94-2.06 2.06-.94-2.06-.94L8.5 2.5l-.94 2.06-2.06.94zm10 10l.94 2.06.94-2.06 2.06-.94-2.06-.94-.94-2.06-.94 2.06-2.06.94z\"/><path d=\"M17.41 7.96l-1.37-1.37c-.4-.4-.92-.59-1.43-.59-.52 0-1.04.2-1.43.59L10.3 9.45l-7.72 7.72c-.78.78-.78 2.05 0 2.83L4 21.41c.39.39.9.59 1.41.59.51 0 1.02-.2 1.41-.59l7.78-7.78 2.81-2.81c.8-.78.8-2.07 0-2.86zM5.41 20L4 18.59l7.72-7.72 1.47 1.35L5.41 20z\"/>\n",
              "  </svg>\n",
              "      </button>\n",
              "      \n",
              "  <style>\n",
              "    .colab-df-container {\n",
              "      display:flex;\n",
              "      flex-wrap:wrap;\n",
              "      gap: 12px;\n",
              "    }\n",
              "\n",
              "    .colab-df-convert {\n",
              "      background-color: #E8F0FE;\n",
              "      border: none;\n",
              "      border-radius: 50%;\n",
              "      cursor: pointer;\n",
              "      display: none;\n",
              "      fill: #1967D2;\n",
              "      height: 32px;\n",
              "      padding: 0 0 0 0;\n",
              "      width: 32px;\n",
              "    }\n",
              "\n",
              "    .colab-df-convert:hover {\n",
              "      background-color: #E2EBFA;\n",
              "      box-shadow: 0px 1px 2px rgba(60, 64, 67, 0.3), 0px 1px 3px 1px rgba(60, 64, 67, 0.15);\n",
              "      fill: #174EA6;\n",
              "    }\n",
              "\n",
              "    [theme=dark] .colab-df-convert {\n",
              "      background-color: #3B4455;\n",
              "      fill: #D2E3FC;\n",
              "    }\n",
              "\n",
              "    [theme=dark] .colab-df-convert:hover {\n",
              "      background-color: #434B5C;\n",
              "      box-shadow: 0px 1px 3px 1px rgba(0, 0, 0, 0.15);\n",
              "      filter: drop-shadow(0px 1px 2px rgba(0, 0, 0, 0.3));\n",
              "      fill: #FFFFFF;\n",
              "    }\n",
              "  </style>\n",
              "\n",
              "      <script>\n",
              "        const buttonEl =\n",
              "          document.querySelector('#df-c074e9ac-c9a9-4d8d-b29f-7d4cd40d446c button.colab-df-convert');\n",
              "        buttonEl.style.display =\n",
              "          google.colab.kernel.accessAllowed ? 'block' : 'none';\n",
              "\n",
              "        async function convertToInteractive(key) {\n",
              "          const element = document.querySelector('#df-c074e9ac-c9a9-4d8d-b29f-7d4cd40d446c');\n",
              "          const dataTable =\n",
              "            await google.colab.kernel.invokeFunction('convertToInteractive',\n",
              "                                                     [key], {});\n",
              "          if (!dataTable) return;\n",
              "\n",
              "          const docLinkHtml = 'Like what you see? Visit the ' +\n",
              "            '<a target=\"_blank\" href=https://colab.research.google.com/notebooks/data_table.ipynb>data table notebook</a>'\n",
              "            + ' to learn more about interactive tables.';\n",
              "          element.innerHTML = '';\n",
              "          dataTable['output_type'] = 'display_data';\n",
              "          await google.colab.output.renderOutput(dataTable, element);\n",
              "          const docLink = document.createElement('div');\n",
              "          docLink.innerHTML = docLinkHtml;\n",
              "          element.appendChild(docLink);\n",
              "        }\n",
              "      </script>\n",
              "    </div>\n",
              "  </div>\n",
              "  "
            ]
          },
          "metadata": {},
          "execution_count": 21
        }
      ]
    },
    {
      "cell_type": "markdown",
      "source": [
        "**his dataset has 30000 samples, the average Credit Limit is 167484, the majority of the samples are female and the average age is 35 years old.**"
      ],
      "metadata": {
        "id": "m-0Cw17vLlJW"
      }
    },
    {
      "cell_type": "markdown",
      "source": [
        "### Numérical and categorical data\n"
      ],
      "metadata": {
        "id": "qMDaPSYUOLUI"
      }
    },
    {
      "cell_type": "code",
      "source": [
        "df.columns"
      ],
      "metadata": {
        "colab": {
          "base_uri": "https://localhost:8080/"
        },
        "id": "o0ZhThQVOJfB",
        "outputId": "a142f04e-a02d-4d84-9e09-4da0e9f6f633"
      },
      "execution_count": 35,
      "outputs": [
        {
          "output_type": "execute_result",
          "data": {
            "text/plain": [
              "Index(['LIMIT_BAL', 'SEX', 'EDUCATION', 'MARRIAGE', 'AGE', 'PAY_0', 'PAY_2',\n",
              "       'PAY_3', 'PAY_4', 'PAY_5', 'PAY_6', 'BILL_AMT1', 'BILL_AMT2',\n",
              "       'BILL_AMT3', 'BILL_AMT4', 'BILL_AMT5', 'BILL_AMT6', 'PAY_AMT1',\n",
              "       'PAY_AMT2', 'PAY_AMT3', 'PAY_AMT4', 'PAY_AMT5', 'PAY_AMT6', 'DEFAULT'],\n",
              "      dtype='object')"
            ]
          },
          "metadata": {},
          "execution_count": 35
        }
      ]
    },
    {
      "cell_type": "code",
      "source": [
        "df_num = df[['LIMIT_BAL','AGE', \n",
        "               'BILL_AMT1', 'BILL_AMT2','BILL_AMT3', 'BILL_AMT4', 'BILL_AMT5', 'BILL_AMT6',\n",
        "               'PAY_AMT1','PAY_AMT2', 'PAY_AMT3', 'PAY_AMT4', 'PAY_AMT5', 'PAY_AMT6']]\n",
        "df_cat = df[['SEX','EDUCATION','MARRIAGE','PAY_0','PAY_2', 'PAY_3', 'PAY_4', 'PAY_5', 'PAY_6','DEFAULT']]"
      ],
      "metadata": {
        "id": "JYErodYHPfzo"
      },
      "execution_count": 36,
      "outputs": []
    },
    {
      "cell_type": "code",
      "source": [
        "#Generating frequency distribution histograms of numerical variables\n",
        "hist_num = df_num.iloc[:,:].hist(figsize=(15,10), color='white', edgecolor='black', grid=False)\n",
        "plt.suptitle('Frecuency distribution of numerical varibales', ha='center', fontsize='xx-large')\n",
        "plt.tight_layout()"
      ],
      "metadata": {
        "colab": {
          "base_uri": "https://localhost:8080/",
          "height": 726
        },
        "id": "LVNqgomiYy30",
        "outputId": "4f371e2c-2455-4246-beb8-b126b46beac5"
      },
      "execution_count": 120,
      "outputs": [
        {
          "output_type": "display_data",
          "data": {
            "text/plain": [
              "<Figure size 1080x720 with 16 Axes>"
            ],
            "image/png": "[encoded data removed]"
          },
          "metadata": {
            "needs_background": "light"
          }
        }
      ]
    },
    {
      "cell_type": "markdown",
      "source": [
        "**All the graphs are very right skewed, they might need to be normalised and standardised because the scale of the data are very different also.**"
      ],
      "metadata": {
        "id": "fjCVtgv-ic9I"
      }
    },
    {
      "cell_type": "code",
      "source": [
        "#Plot correlation plot\n",
        "plt.figure(figsize=(10, 10))\n",
        "corr_mask = np.triu(df_num.corr())\n",
        "h_map = sns.heatmap(df_num.corr(), mask=corr_mask, annot=True, cmap='Reds',fmt='.1g', xticklabels='auto')\n",
        "plt.yticks(rotation=360, fontsize= 12)\n",
        "plt.xticks(rotation=90, fontsize= 12)\n",
        "plt.show()"
      ],
      "metadata": {
        "colab": {
          "base_uri": "https://localhost:8080/",
          "height": 646
        },
        "id": "xppUXiauk8RF",
        "outputId": "2a05eb00-daa3-4935-ee85-a971d3291588"
      },
      "execution_count": 123,
      "outputs": [
        {
          "output_type": "display_data",
          "data": {
            "text/plain": [
              "<Figure size 720x720 with 2 Axes>"
            ],
            "image/png": "[encoded data removed]"
          },
          "metadata": {
            "needs_background": "light"
          }
        }
      ]
    },
    {
      "cell_type": "markdown",
      "source": [
        "**The biggest correlations are between bill amounts variables, the rest of the variables are not correlated significantly.**"
      ],
      "metadata": {
        "id": "Gs0AodF6lakJ"
      }
    },
    {
      "cell_type": "code",
      "source": [
        "#Categorical variables\n",
        "fig, axes = plt.subplots(nrows=3, ncols=4, figsize=(15, 10))\n",
        "for i, ax in zip(df_cat.columns, axes.flatten()):\n",
        "    sns.barplot(x=df_cat[i].value_counts().index, y=df_cat[i].value_counts(),\n",
        "                errcolor=\".5\", linewidth=1, edgecolor=\".5\", facecolor=(0, 0, 0, 0),\n",
        "                ax=ax).set_title(i)\n",
        "plt.suptitle('Frecuency distribution of categorical varibales', ha='center', fontsize='xx-large')\n",
        "plt.tight_layout()\n",
        "plt.show()"
      ],
      "metadata": {
        "colab": {
          "base_uri": "https://localhost:8080/",
          "height": 726
        },
        "id": "plpr-pouy2vo",
        "outputId": "388ebdb7-13d6-47c8-c391-6e154d7b7742"
      },
      "execution_count": 121,
      "outputs": [
        {
          "output_type": "display_data",
          "data": {
            "text/plain": [
              "<Figure size 1080x720 with 12 Axes>"
            ],
            "image/png": "[encoded data removed]"
          },
          "metadata": {
            "needs_background": "light"
          }
        }
      ]
    },
    {
      "cell_type": "code",
      "source": [
        "#Categorical variables\n",
        "for i in df_cat.columns:\n",
        "  sns.barplot(x=df_cat[i].value_counts().index,y=df_cat[i].value_counts(), errcolor=\".5\",\n",
        "    linewidth=1, edgecolor=\".5\", facecolor=(0, 0, 0, 0)).set_title(i)\n",
        "  plt.show()"
      ],
      "metadata": {
        "colab": {
          "base_uri": "https://localhost:8080/",
          "height": 1000
        },
        "id": "RIUVrd9Cu4zT",
        "outputId": "958920ff-792f-4e34-a4cc-49ecece9e46b"
      },
      "execution_count": 112,
      "outputs": [
        {
          "output_type": "display_data",
          "data": {
            "text/plain": [
              "<Figure size 432x288 with 1 Axes>"
            ],
            "image/png": "[encoded data removed]"
          },
          "metadata": {
            "needs_background": "light"
          }
        },
        {
          "output_type": "display_data",
          "data": {
            "text/plain": [
              "<Figure size 432x288 with 1 Axes>"
            ],
            "image/png": "[encoded data removed]"
          },
          "metadata": {
            "needs_background": "light"
          }
        },
        {
          "output_type": "display_data",
          "data": {
            "text/plain": [
              "<Figure size 432x288 with 1 Axes>"
            ],
            "image/png": "[encoded data removed]"
          },
          "metadata": {
            "needs_background": "light"
          }
        },
        {
          "output_type": "display_data",
          "data": {
            "text/plain": [
              "<Figure size 432x288 with 1 Axes>"
            ],
            "image/png": "[encoded data removed]"
          },
          "metadata": {
            "needs_background": "light"
          }
        },
        {
          "output_type": "display_data",
          "data": {
            "text/plain": [
              "<Figure size 432x288 with 1 Axes>"
            ],
            "image/png": "[encoded data removed]"
          },
          "metadata": {
            "needs_background": "light"
          }
        },
        {
          "output_type": "display_data",
          "data": {
            "text/plain": [
              "<Figure size 432x288 with 1 Axes>"
            ],
            "image/png": "[encoded data removed]"
          },
          "metadata": {
            "needs_background": "light"
          }
        },
        {
          "output_type": "display_data",
          "data": {
            "text/plain": [
              "<Figure size 432x288 with 1 Axes>"
            ],
            "image/png": "[encoded data removed]"
          },
          "metadata": {
            "needs_background": "light"
          }
        },
        {
          "output_type": "display_data",
          "data": {
            "text/plain": [
              "<Figure size 432x288 with 1 Axes>"
            ],
            "image/png": "[encoded data removed]"
          },
          "metadata": {
            "needs_background": "light"
          }
        },
        {
          "output_type": "display_data",
          "data": {
            "text/plain": [
              "<Figure size 432x288 with 1 Axes>"
            ],
            "image/png": "[encoded data removed]"
          },
          "metadata": {
            "needs_background": "light"
          }
        },
        {
          "output_type": "display_data",
          "data": {
            "text/plain": [
              "<Figure size 432x288 with 1 Axes>"
            ],
            "image/png": "[encoded data removed]"
          },
          "metadata": {
            "needs_background": "light"
          }
        }
      ]
    },
    {
      "cell_type": "markdown",
      "source": [
        "### Data cleaning and preprocessing"
      ],
      "metadata": {
        "id": "Mv48zGOyhCnx"
      }
    },
    {
      "cell_type": "code",
      "source": [
        "#Drop 'ID' column and rename 'default payment next month'\n",
        "df = df.drop(axis=1, columns='ID')\n",
        "df.reset_index()\n",
        "df['DEFAULT'] = df['default payment next month'].astype('category')\n",
        "df = df.drop(axis=1, columns='default payment next month')\n",
        "df.head()"
      ],
      "metadata": {
        "colab": {
          "base_uri": "https://localhost:8080/",
          "height": 299
        },
        "id": "kCwifsIXiIZh",
        "outputId": "1789c357-ec80-4591-d843-b7dcfacf06db"
      },
      "execution_count": 22,
      "outputs": [
        {
          "output_type": "execute_result",
          "data": {
            "text/plain": [
              "   LIMIT_BAL  SEX  EDUCATION  MARRIAGE  AGE  PAY_0  PAY_2  PAY_3  PAY_4  \\\n",
              "0      20000    2          2         1   24      2      2     -1     -1   \n",
              "1     120000    2          2         2   26     -1      2      0      0   \n",
              "2      90000    2          2         2   34      0      0      0      0   \n",
              "3      50000    2          2         1   37      0      0      0      0   \n",
              "4      50000    1          2         1   57     -1      0     -1      0   \n",
              "\n",
              "   PAY_5  ...  BILL_AMT4  BILL_AMT5  BILL_AMT6  PAY_AMT1  PAY_AMT2  PAY_AMT3  \\\n",
              "0     -2  ...          0          0          0         0       689         0   \n",
              "1      0  ...       3272       3455       3261         0      1000      1000   \n",
              "2      0  ...      14331      14948      15549      1518      1500      1000   \n",
              "3      0  ...      28314      28959      29547      2000      2019      1200   \n",
              "4      0  ...      20940      19146      19131      2000     36681     10000   \n",
              "\n",
              "   PAY_AMT4  PAY_AMT5  PAY_AMT6  DEFAULT  \n",
              "0         0         0         0        1  \n",
              "1      1000         0      2000        1  \n",
              "2      1000      1000      5000        0  \n",
              "3      1100      1069      1000        0  \n",
              "4      9000       689       679        0  \n",
              "\n",
              "[5 rows x 24 columns]"
            ],
            "text/html": [
              "\n",
              "  <div id=\"df-755caf1a-4597-4e44-ab60-10dfe90a2f92\">\n",
              "    <div class=\"colab-df-container\">\n",
              "      <div>\n",
              "<style scoped>\n",
              "    .dataframe tbody tr th:only-of-type {\n",
              "        vertical-align: middle;\n",
              "    }\n",
              "\n",
              "    .dataframe tbody tr th {\n",
              "        vertical-align: top;\n",
              "    }\n",
              "\n",
              "    .dataframe thead th {\n",
              "        text-align: right;\n",
              "    }\n",
              "</style>\n",
              "<table border=\"1\" class=\"dataframe\">\n",
              "  <thead>\n",
              "    <tr style=\"text-align: right;\">\n",
              "      <th></th>\n",
              "      <th>LIMIT_BAL</th>\n",
              "      <th>SEX</th>\n",
              "      <th>EDUCATION</th>\n",
              "      <th>MARRIAGE</th>\n",
              "      <th>AGE</th>\n",
              "      <th>PAY_0</th>\n",
              "      <th>PAY_2</th>\n",
              "      <th>PAY_3</th>\n",
              "      <th>PAY_4</th>\n",
              "      <th>PAY_5</th>\n",
              "      <th>...</th>\n",
              "      <th>BILL_AMT4</th>\n",
              "      <th>BILL_AMT5</th>\n",
              "      <th>BILL_AMT6</th>\n",
              "      <th>PAY_AMT1</th>\n",
              "      <th>PAY_AMT2</th>\n",
              "      <th>PAY_AMT3</th>\n",
              "      <th>PAY_AMT4</th>\n",
              "      <th>PAY_AMT5</th>\n",
              "      <th>PAY_AMT6</th>\n",
              "      <th>DEFAULT</th>\n",
              "    </tr>\n",
              "  </thead>\n",
              "  <tbody>\n",
              "    <tr>\n",
              "      <th>0</th>\n",
              "      <td>20000</td>\n",
              "      <td>2</td>\n",
              "      <td>2</td>\n",
              "      <td>1</td>\n",
              "      <td>24</td>\n",
              "      <td>2</td>\n",
              "      <td>2</td>\n",
              "      <td>-1</td>\n",
              "      <td>-1</td>\n",
              "      <td>-2</td>\n",
              "      <td>...</td>\n",
              "      <td>0</td>\n",
              "      <td>0</td>\n",
              "      <td>0</td>\n",
              "      <td>0</td>\n",
              "      <td>689</td>\n",
              "      <td>0</td>\n",
              "      <td>0</td>\n",
              "      <td>0</td>\n",
              "      <td>0</td>\n",
              "      <td>1</td>\n",
              "    </tr>\n",
              "    <tr>\n",
              "      <th>1</th>\n",
              "      <td>120000</td>\n",
              "      <td>2</td>\n",
              "      <td>2</td>\n",
              "      <td>2</td>\n",
              "      <td>26</td>\n",
              "      <td>-1</td>\n",
              "      <td>2</td>\n",
              "      <td>0</td>\n",
              "      <td>0</td>\n",
              "      <td>0</td>\n",
              "      <td>...</td>\n",
              "      <td>3272</td>\n",
              "      <td>3455</td>\n",
              "      <td>3261</td>\n",
              "      <td>0</td>\n",
              "      <td>1000</td>\n",
              "      <td>1000</td>\n",
              "      <td>1000</td>\n",
              "      <td>0</td>\n",
              "      <td>2000</td>\n",
              "      <td>1</td>\n",
              "    </tr>\n",
              "    <tr>\n",
              "      <th>2</th>\n",
              "      <td>90000</td>\n",
              "      <td>2</td>\n",
              "      <td>2</td>\n",
              "      <td>2</td>\n",
              "      <td>34</td>\n",
              "      <td>0</td>\n",
              "      <td>0</td>\n",
              "      <td>0</td>\n",
              "      <td>0</td>\n",
              "      <td>0</td>\n",
              "      <td>...</td>\n",
              "      <td>14331</td>\n",
              "      <td>14948</td>\n",
              "      <td>15549</td>\n",
              "      <td>1518</td>\n",
              "      <td>1500</td>\n",
              "      <td>1000</td>\n",
              "      <td>1000</td>\n",
              "      <td>1000</td>\n",
              "      <td>5000</td>\n",
              "      <td>0</td>\n",
              "    </tr>\n",
              "    <tr>\n",
              "      <th>3</th>\n",
              "      <td>50000</td>\n",
              "      <td>2</td>\n",
              "      <td>2</td>\n",
              "      <td>1</td>\n",
              "      <td>37</td>\n",
              "      <td>0</td>\n",
              "      <td>0</td>\n",
              "      <td>0</td>\n",
              "      <td>0</td>\n",
              "      <td>0</td>\n",
              "      <td>...</td>\n",
              "      <td>28314</td>\n",
              "      <td>28959</td>\n",
              "      <td>29547</td>\n",
              "      <td>2000</td>\n",
              "      <td>2019</td>\n",
              "      <td>1200</td>\n",
              "      <td>1100</td>\n",
              "      <td>1069</td>\n",
              "      <td>1000</td>\n",
              "      <td>0</td>\n",
              "    </tr>\n",
              "    <tr>\n",
              "      <th>4</th>\n",
              "      <td>50000</td>\n",
              "      <td>1</td>\n",
              "      <td>2</td>\n",
              "      <td>1</td>\n",
              "      <td>57</td>\n",
              "      <td>-1</td>\n",
              "      <td>0</td>\n",
              "      <td>-1</td>\n",
              "      <td>0</td>\n",
              "      <td>0</td>\n",
              "      <td>...</td>\n",
              "      <td>20940</td>\n",
              "      <td>19146</td>\n",
              "      <td>19131</td>\n",
              "      <td>2000</td>\n",
              "      <td>36681</td>\n",
              "      <td>10000</td>\n",
              "      <td>9000</td>\n",
              "      <td>689</td>\n",
              "      <td>679</td>\n",
              "      <td>0</td>\n",
              "    </tr>\n",
              "  </tbody>\n",
              "</table>\n",
              "<p>5 rows × 24 columns</p>\n",
              "</div>\n",
              "      <button class=\"colab-df-convert\" onclick=\"convertToInteractive('df-755caf1a-4597-4e44-ab60-10dfe90a2f92')\"\n",
              "              title=\"Convert this dataframe to an interactive table.\"\n",
              "              style=\"display:none;\">\n",
              "        \n",
              "  <svg xmlns=\"http://www.w3.org/2000/svg\" height=\"24px\"viewBox=\"0 0 24 24\"\n",
              "       width=\"24px\">\n",
              "    <path d=\"M0 0h24v24H0V0z\" fill=\"none\"/>\n",
              "    <path d=\"M18.56 5.44l.94 2.06.94-2.06 2.06-.94-2.06-.94-.94-2.06-.94 2.06-2.06.94zm-11 1L8.5 8.5l.94-2.06 2.06-.94-2.06-.94L8.5 2.5l-.94 2.06-2.06.94zm10 10l.94 2.06.94-2.06 2.06-.94-2.06-.94-.94-2.06-.94 2.06-2.06.94z\"/><path d=\"M17.41 7.96l-1.37-1.37c-.4-.4-.92-.59-1.43-.59-.52 0-1.04.2-1.43.59L10.3 9.45l-7.72 7.72c-.78.78-.78 2.05 0 2.83L4 21.41c.39.39.9.59 1.41.59.51 0 1.02-.2 1.41-.59l7.78-7.78 2.81-2.81c.8-.78.8-2.07 0-2.86zM5.41 20L4 18.59l7.72-7.72 1.47 1.35L5.41 20z\"/>\n",
              "  </svg>\n",
              "      </button>\n",
              "      \n",
              "  <style>\n",
              "    .colab-df-container {\n",
              "      display:flex;\n",
              "      flex-wrap:wrap;\n",
              "      gap: 12px;\n",
              "    }\n",
              "\n",
              "    .colab-df-convert {\n",
              "      background-color: #E8F0FE;\n",
              "      border: none;\n",
              "      border-radius: 50%;\n",
              "      cursor: pointer;\n",
              "      display: none;\n",
              "      fill: #1967D2;\n",
              "      height: 32px;\n",
              "      padding: 0 0 0 0;\n",
              "      width: 32px;\n",
              "    }\n",
              "\n",
              "    .colab-df-convert:hover {\n",
              "      background-color: #E2EBFA;\n",
              "      box-shadow: 0px 1px 2px rgba(60, 64, 67, 0.3), 0px 1px 3px 1px rgba(60, 64, 67, 0.15);\n",
              "      fill: #174EA6;\n",
              "    }\n",
              "\n",
              "    [theme=dark] .colab-df-convert {\n",
              "      background-color: #3B4455;\n",
              "      fill: #D2E3FC;\n",
              "    }\n",
              "\n",
              "    [theme=dark] .colab-df-convert:hover {\n",
              "      background-color: #434B5C;\n",
              "      box-shadow: 0px 1px 3px 1px rgba(0, 0, 0, 0.15);\n",
              "      filter: drop-shadow(0px 1px 2px rgba(0, 0, 0, 0.3));\n",
              "      fill: #FFFFFF;\n",
              "    }\n",
              "  </style>\n",
              "\n",
              "      <script>\n",
              "        const buttonEl =\n",
              "          document.querySelector('#df-755caf1a-4597-4e44-ab60-10dfe90a2f92 button.colab-df-convert');\n",
              "        buttonEl.style.display =\n",
              "          google.colab.kernel.accessAllowed ? 'block' : 'none';\n",
              "\n",
              "        async function convertToInteractive(key) {\n",
              "          const element = document.querySelector('#df-755caf1a-4597-4e44-ab60-10dfe90a2f92');\n",
              "          const dataTable =\n",
              "            await google.colab.kernel.invokeFunction('convertToInteractive',\n",
              "                                                     [key], {});\n",
              "          if (!dataTable) return;\n",
              "\n",
              "          const docLinkHtml = 'Like what you see? Visit the ' +\n",
              "            '<a target=\"_blank\" href=https://colab.research.google.com/notebooks/data_table.ipynb>data table notebook</a>'\n",
              "            + ' to learn more about interactive tables.';\n",
              "          element.innerHTML = '';\n",
              "          dataTable['output_type'] = 'display_data';\n",
              "          await google.colab.output.renderOutput(dataTable, element);\n",
              "          const docLink = document.createElement('div');\n",
              "          docLink.innerHTML = docLinkHtml;\n",
              "          element.appendChild(docLink);\n",
              "        }\n",
              "      </script>\n",
              "    </div>\n",
              "  </div>\n",
              "  "
            ]
          },
          "metadata": {},
          "execution_count": 22
        }
      ]
    },
    {
      "cell_type": "code",
      "source": [
        "# Check for duplicate rows and remove duplicate rows.\n",
        "print(f\"There are {df.duplicated().sum()} duplicate rows in the data set\")\n",
        "\n",
        "df=df.drop_duplicates()\n",
        "print(\"The duplicate rows were removed\")"
      ],
      "metadata": {
        "colab": {
          "base_uri": "https://localhost:8080/"
        },
        "id": "B4_F4pM_8xZa",
        "outputId": "ed189b7c-4950-4553-9598-f96c45aba7b7"
      },
      "execution_count": 23,
      "outputs": [
        {
          "output_type": "stream",
          "name": "stdout",
          "text": [
            "There are 35 duplicate rows in the data set\n",
            "The duplicate rows were removed\n"
          ]
        }
      ]
    },
    {
      "cell_type": "markdown",
      "source": [
        "### Errors in the dataset"
      ],
      "metadata": {
        "id": "pVGusE9fz9gt"
      }
    },
    {
      "cell_type": "code",
      "source": [
        "df.describe().T"
      ],
      "metadata": {
        "colab": {
          "base_uri": "https://localhost:8080/",
          "height": 770
        },
        "id": "TkLYwOuU4JWg",
        "outputId": "abb69a28-eae3-4efa-e177-8cda5e8d9f2f"
      },
      "execution_count": 24,
      "outputs": [
        {
          "output_type": "execute_result",
          "data": {
            "text/plain": [
              "             count           mean            std       min      25%       50%  \\\n",
              "LIMIT_BAL  29965.0  167442.005006  129760.135222   10000.0  50000.0  140000.0   \n",
              "SEX        29965.0       1.603738       0.489128       1.0      1.0       2.0   \n",
              "EDUCATION  29965.0       1.853629       0.790411       0.0      1.0       2.0   \n",
              "MARRIAGE   29965.0       1.551877       0.521997       0.0      1.0       2.0   \n",
              "AGE        29965.0      35.487969       9.219459      21.0     28.0      34.0   \n",
              "PAY_0      29965.0      -0.016753       1.123492      -2.0     -1.0       0.0   \n",
              "PAY_2      29965.0      -0.131854       1.196322      -2.0     -1.0       0.0   \n",
              "PAY_3      29965.0      -0.164392       1.195878      -2.0     -1.0       0.0   \n",
              "PAY_4      29965.0      -0.218922       1.168175      -2.0     -1.0       0.0   \n",
              "PAY_5      29965.0      -0.264509       1.132220      -2.0     -1.0       0.0   \n",
              "PAY_6      29965.0      -0.289438       1.149090      -2.0     -1.0       0.0   \n",
              "BILL_AMT1  29965.0   51283.009778   73658.132403 -165580.0   3595.0   22438.0   \n",
              "BILL_AMT2  29965.0   49236.366294   71195.567392  -69777.0   3010.0   21295.0   \n",
              "BILL_AMT3  29965.0   47067.916069   69371.352323 -157264.0   2711.0   20135.0   \n",
              "BILL_AMT4  29965.0   43313.329885   64353.514373 -170000.0   2360.0   19081.0   \n",
              "BILL_AMT5  29965.0   40358.334390   60817.130623  -81334.0   1787.0   18130.0   \n",
              "BILL_AMT6  29965.0   38917.012281   59574.147742 -339603.0   1262.0   17124.0   \n",
              "PAY_AMT1   29965.0    5670.099316   16571.849467       0.0   1000.0    2102.0   \n",
              "PAY_AMT2   29965.0    5927.983180   23053.456645       0.0    850.0    2010.0   \n",
              "PAY_AMT3   29965.0    5231.688837   17616.361124       0.0    390.0    1804.0   \n",
              "PAY_AMT4   29965.0    4831.617454   15674.464538       0.0    300.0    1500.0   \n",
              "PAY_AMT5   29965.0    4804.897047   15286.372298       0.0    261.0    1500.0   \n",
              "PAY_AMT6   29965.0    5221.498014   17786.976864       0.0    131.0    1500.0   \n",
              "\n",
              "                75%        max  \n",
              "LIMIT_BAL  240000.0  1000000.0  \n",
              "SEX             2.0        2.0  \n",
              "EDUCATION       2.0        6.0  \n",
              "MARRIAGE        2.0        3.0  \n",
              "AGE            41.0       79.0  \n",
              "PAY_0           0.0        8.0  \n",
              "PAY_2           0.0        8.0  \n",
              "PAY_3           0.0        8.0  \n",
              "PAY_4           0.0        8.0  \n",
              "PAY_5           0.0        8.0  \n",
              "PAY_6           0.0        8.0  \n",
              "BILL_AMT1   67260.0   964511.0  \n",
              "BILL_AMT2   64109.0   983931.0  \n",
              "BILL_AMT3   60201.0  1664089.0  \n",
              "BILL_AMT4   54601.0   891586.0  \n",
              "BILL_AMT5   50247.0   927171.0  \n",
              "BILL_AMT6   49252.0   961664.0  \n",
              "PAY_AMT1     5008.0   873552.0  \n",
              "PAY_AMT2     5000.0  1684259.0  \n",
              "PAY_AMT3     4512.0   896040.0  \n",
              "PAY_AMT4     4016.0   621000.0  \n",
              "PAY_AMT5     4042.0   426529.0  \n",
              "PAY_AMT6     4000.0   528666.0  "
            ],
            "text/html": [
              "\n",
              "  <div id=\"df-2358a1ad-23f2-4e06-9c4a-3a22df7caa76\">\n",
              "    <div class=\"colab-df-container\">\n",
              "      <div>\n",
              "<style scoped>\n",
              "    .dataframe tbody tr th:only-of-type {\n",
              "        vertical-align: middle;\n",
              "    }\n",
              "\n",
              "    .dataframe tbody tr th {\n",
              "        vertical-align: top;\n",
              "    }\n",
              "\n",
              "    .dataframe thead th {\n",
              "        text-align: right;\n",
              "    }\n",
              "</style>\n",
              "<table border=\"1\" class=\"dataframe\">\n",
              "  <thead>\n",
              "    <tr style=\"text-align: right;\">\n",
              "      <th></th>\n",
              "      <th>count</th>\n",
              "      <th>mean</th>\n",
              "      <th>std</th>\n",
              "      <th>min</th>\n",
              "      <th>25%</th>\n",
              "      <th>50%</th>\n",
              "      <th>75%</th>\n",
              "      <th>max</th>\n",
              "    </tr>\n",
              "  </thead>\n",
              "  <tbody>\n",
              "    <tr>\n",
              "      <th>LIMIT_BAL</th>\n",
              "      <td>29965.0</td>\n",
              "      <td>167442.005006</td>\n",
              "      <td>129760.135222</td>\n",
              "      <td>10000.0</td>\n",
              "      <td>50000.0</td>\n",
              "      <td>140000.0</td>\n",
              "      <td>240000.0</td>\n",
              "      <td>1000000.0</td>\n",
              "    </tr>\n",
              "    <tr>\n",
              "      <th>SEX</th>\n",
              "      <td>29965.0</td>\n",
              "      <td>1.603738</td>\n",
              "      <td>0.489128</td>\n",
              "      <td>1.0</td>\n",
              "      <td>1.0</td>\n",
              "      <td>2.0</td>\n",
              "      <td>2.0</td>\n",
              "      <td>2.0</td>\n",
              "    </tr>\n",
              "    <tr>\n",
              "      <th>EDUCATION</th>\n",
              "      <td>29965.0</td>\n",
              "      <td>1.853629</td>\n",
              "      <td>0.790411</td>\n",
              "      <td>0.0</td>\n",
              "      <td>1.0</td>\n",
              "      <td>2.0</td>\n",
              "      <td>2.0</td>\n",
              "      <td>6.0</td>\n",
              "    </tr>\n",
              "    <tr>\n",
              "      <th>MARRIAGE</th>\n",
              "      <td>29965.0</td>\n",
              "      <td>1.551877</td>\n",
              "      <td>0.521997</td>\n",
              "      <td>0.0</td>\n",
              "      <td>1.0</td>\n",
              "      <td>2.0</td>\n",
              "      <td>2.0</td>\n",
              "      <td>3.0</td>\n",
              "    </tr>\n",
              "    <tr>\n",
              "      <th>AGE</th>\n",
              "      <td>29965.0</td>\n",
              "      <td>35.487969</td>\n",
              "      <td>9.219459</td>\n",
              "      <td>21.0</td>\n",
              "      <td>28.0</td>\n",
              "      <td>34.0</td>\n",
              "      <td>41.0</td>\n",
              "      <td>79.0</td>\n",
              "    </tr>\n",
              "    <tr>\n",
              "      <th>PAY_0</th>\n",
              "      <td>29965.0</td>\n",
              "      <td>-0.016753</td>\n",
              "      <td>1.123492</td>\n",
              "      <td>-2.0</td>\n",
              "      <td>-1.0</td>\n",
              "      <td>0.0</td>\n",
              "      <td>0.0</td>\n",
              "      <td>8.0</td>\n",
              "    </tr>\n",
              "    <tr>\n",
              "      <th>PAY_2</th>\n",
              "      <td>29965.0</td>\n",
              "      <td>-0.131854</td>\n",
              "      <td>1.196322</td>\n",
              "      <td>-2.0</td>\n",
              "      <td>-1.0</td>\n",
              "      <td>0.0</td>\n",
              "      <td>0.0</td>\n",
              "      <td>8.0</td>\n",
              "    </tr>\n",
              "    <tr>\n",
              "      <th>PAY_3</th>\n",
              "      <td>29965.0</td>\n",
              "      <td>-0.164392</td>\n",
              "      <td>1.195878</td>\n",
              "      <td>-2.0</td>\n",
              "      <td>-1.0</td>\n",
              "      <td>0.0</td>\n",
              "      <td>0.0</td>\n",
              "      <td>8.0</td>\n",
              "    </tr>\n",
              "    <tr>\n",
              "      <th>PAY_4</th>\n",
              "      <td>29965.0</td>\n",
              "      <td>-0.218922</td>\n",
              "      <td>1.168175</td>\n",
              "      <td>-2.0</td>\n",
              "      <td>-1.0</td>\n",
              "      <td>0.0</td>\n",
              "      <td>0.0</td>\n",
              "      <td>8.0</td>\n",
              "    </tr>\n",
              "    <tr>\n",
              "      <th>PAY_5</th>\n",
              "      <td>29965.0</td>\n",
              "      <td>-0.264509</td>\n",
              "      <td>1.132220</td>\n",
              "      <td>-2.0</td>\n",
              "      <td>-1.0</td>\n",
              "      <td>0.0</td>\n",
              "      <td>0.0</td>\n",
              "      <td>8.0</td>\n",
              "    </tr>\n",
              "    <tr>\n",
              "      <th>PAY_6</th>\n",
              "      <td>29965.0</td>\n",
              "      <td>-0.289438</td>\n",
              "      <td>1.149090</td>\n",
              "      <td>-2.0</td>\n",
              "      <td>-1.0</td>\n",
              "      <td>0.0</td>\n",
              "      <td>0.0</td>\n",
              "      <td>8.0</td>\n",
              "    </tr>\n",
              "    <tr>\n",
              "      <th>BILL_AMT1</th>\n",
              "      <td>29965.0</td>\n",
              "      <td>51283.009778</td>\n",
              "      <td>73658.132403</td>\n",
              "      <td>-165580.0</td>\n",
              "      <td>3595.0</td>\n",
              "      <td>22438.0</td>\n",
              "      <td>67260.0</td>\n",
              "      <td>964511.0</td>\n",
              "    </tr>\n",
              "    <tr>\n",
              "      <th>BILL_AMT2</th>\n",
              "      <td>29965.0</td>\n",
              "      <td>49236.366294</td>\n",
              "      <td>71195.567392</td>\n",
              "      <td>-69777.0</td>\n",
              "      <td>3010.0</td>\n",
              "      <td>21295.0</td>\n",
              "      <td>64109.0</td>\n",
              "      <td>983931.0</td>\n",
              "    </tr>\n",
              "    <tr>\n",
              "      <th>BILL_AMT3</th>\n",
              "      <td>29965.0</td>\n",
              "      <td>47067.916069</td>\n",
              "      <td>69371.352323</td>\n",
              "      <td>-157264.0</td>\n",
              "      <td>2711.0</td>\n",
              "      <td>20135.0</td>\n",
              "      <td>60201.0</td>\n",
              "      <td>1664089.0</td>\n",
              "    </tr>\n",
              "    <tr>\n",
              "      <th>BILL_AMT4</th>\n",
              "      <td>29965.0</td>\n",
              "      <td>43313.329885</td>\n",
              "      <td>64353.514373</td>\n",
              "      <td>-170000.0</td>\n",
              "      <td>2360.0</td>\n",
              "      <td>19081.0</td>\n",
              "      <td>54601.0</td>\n",
              "      <td>891586.0</td>\n",
              "    </tr>\n",
              "    <tr>\n",
              "      <th>BILL_AMT5</th>\n",
              "      <td>29965.0</td>\n",
              "      <td>40358.334390</td>\n",
              "      <td>60817.130623</td>\n",
              "      <td>-81334.0</td>\n",
              "      <td>1787.0</td>\n",
              "      <td>18130.0</td>\n",
              "      <td>50247.0</td>\n",
              "      <td>927171.0</td>\n",
              "    </tr>\n",
              "    <tr>\n",
              "      <th>BILL_AMT6</th>\n",
              "      <td>29965.0</td>\n",
              "      <td>38917.012281</td>\n",
              "      <td>59574.147742</td>\n",
              "      <td>-339603.0</td>\n",
              "      <td>1262.0</td>\n",
              "      <td>17124.0</td>\n",
              "      <td>49252.0</td>\n",
              "      <td>961664.0</td>\n",
              "    </tr>\n",
              "    <tr>\n",
              "      <th>PAY_AMT1</th>\n",
              "      <td>29965.0</td>\n",
              "      <td>5670.099316</td>\n",
              "      <td>16571.849467</td>\n",
              "      <td>0.0</td>\n",
              "      <td>1000.0</td>\n",
              "      <td>2102.0</td>\n",
              "      <td>5008.0</td>\n",
              "      <td>873552.0</td>\n",
              "    </tr>\n",
              "    <tr>\n",
              "      <th>PAY_AMT2</th>\n",
              "      <td>29965.0</td>\n",
              "      <td>5927.983180</td>\n",
              "      <td>23053.456645</td>\n",
              "      <td>0.0</td>\n",
              "      <td>850.0</td>\n",
              "      <td>2010.0</td>\n",
              "      <td>5000.0</td>\n",
              "      <td>1684259.0</td>\n",
              "    </tr>\n",
              "    <tr>\n",
              "      <th>PAY_AMT3</th>\n",
              "      <td>29965.0</td>\n",
              "      <td>5231.688837</td>\n",
              "      <td>17616.361124</td>\n",
              "      <td>0.0</td>\n",
              "      <td>390.0</td>\n",
              "      <td>1804.0</td>\n",
              "      <td>4512.0</td>\n",
              "      <td>896040.0</td>\n",
              "    </tr>\n",
              "    <tr>\n",
              "      <th>PAY_AMT4</th>\n",
              "      <td>29965.0</td>\n",
              "      <td>4831.617454</td>\n",
              "      <td>15674.464538</td>\n",
              "      <td>0.0</td>\n",
              "      <td>300.0</td>\n",
              "      <td>1500.0</td>\n",
              "      <td>4016.0</td>\n",
              "      <td>621000.0</td>\n",
              "    </tr>\n",
              "    <tr>\n",
              "      <th>PAY_AMT5</th>\n",
              "      <td>29965.0</td>\n",
              "      <td>4804.897047</td>\n",
              "      <td>15286.372298</td>\n",
              "      <td>0.0</td>\n",
              "      <td>261.0</td>\n",
              "      <td>1500.0</td>\n",
              "      <td>4042.0</td>\n",
              "      <td>426529.0</td>\n",
              "    </tr>\n",
              "    <tr>\n",
              "      <th>PAY_AMT6</th>\n",
              "      <td>29965.0</td>\n",
              "      <td>5221.498014</td>\n",
              "      <td>17786.976864</td>\n",
              "      <td>0.0</td>\n",
              "      <td>131.0</td>\n",
              "      <td>1500.0</td>\n",
              "      <td>4000.0</td>\n",
              "      <td>528666.0</td>\n",
              "    </tr>\n",
              "  </tbody>\n",
              "</table>\n",
              "</div>\n",
              "      <button class=\"colab-df-convert\" onclick=\"convertToInteractive('df-2358a1ad-23f2-4e06-9c4a-3a22df7caa76')\"\n",
              "              title=\"Convert this dataframe to an interactive table.\"\n",
              "              style=\"display:none;\">\n",
              "        \n",
              "  <svg xmlns=\"http://www.w3.org/2000/svg\" height=\"24px\"viewBox=\"0 0 24 24\"\n",
              "       width=\"24px\">\n",
              "    <path d=\"M0 0h24v24H0V0z\" fill=\"none\"/>\n",
              "    <path d=\"M18.56 5.44l.94 2.06.94-2.06 2.06-.94-2.06-.94-.94-2.06-.94 2.06-2.06.94zm-11 1L8.5 8.5l.94-2.06 2.06-.94-2.06-.94L8.5 2.5l-.94 2.06-2.06.94zm10 10l.94 2.06.94-2.06 2.06-.94-2.06-.94-.94-2.06-.94 2.06-2.06.94z\"/><path d=\"M17.41 7.96l-1.37-1.37c-.4-.4-.92-.59-1.43-.59-.52 0-1.04.2-1.43.59L10.3 9.45l-7.72 7.72c-.78.78-.78 2.05 0 2.83L4 21.41c.39.39.9.59 1.41.59.51 0 1.02-.2 1.41-.59l7.78-7.78 2.81-2.81c.8-.78.8-2.07 0-2.86zM5.41 20L4 18.59l7.72-7.72 1.47 1.35L5.41 20z\"/>\n",
              "  </svg>\n",
              "      </button>\n",
              "      \n",
              "  <style>\n",
              "    .colab-df-container {\n",
              "      display:flex;\n",
              "      flex-wrap:wrap;\n",
              "      gap: 12px;\n",
              "    }\n",
              "\n",
              "    .colab-df-convert {\n",
              "      background-color: #E8F0FE;\n",
              "      border: none;\n",
              "      border-radius: 50%;\n",
              "      cursor: pointer;\n",
              "      display: none;\n",
              "      fill: #1967D2;\n",
              "      height: 32px;\n",
              "      padding: 0 0 0 0;\n",
              "      width: 32px;\n",
              "    }\n",
              "\n",
              "    .colab-df-convert:hover {\n",
              "      background-color: #E2EBFA;\n",
              "      box-shadow: 0px 1px 2px rgba(60, 64, 67, 0.3), 0px 1px 3px 1px rgba(60, 64, 67, 0.15);\n",
              "      fill: #174EA6;\n",
              "    }\n",
              "\n",
              "    [theme=dark] .colab-df-convert {\n",
              "      background-color: #3B4455;\n",
              "      fill: #D2E3FC;\n",
              "    }\n",
              "\n",
              "    [theme=dark] .colab-df-convert:hover {\n",
              "      background-color: #434B5C;\n",
              "      box-shadow: 0px 1px 3px 1px rgba(0, 0, 0, 0.15);\n",
              "      filter: drop-shadow(0px 1px 2px rgba(0, 0, 0, 0.3));\n",
              "      fill: #FFFFFF;\n",
              "    }\n",
              "  </style>\n",
              "\n",
              "      <script>\n",
              "        const buttonEl =\n",
              "          document.querySelector('#df-2358a1ad-23f2-4e06-9c4a-3a22df7caa76 button.colab-df-convert');\n",
              "        buttonEl.style.display =\n",
              "          google.colab.kernel.accessAllowed ? 'block' : 'none';\n",
              "\n",
              "        async function convertToInteractive(key) {\n",
              "          const element = document.querySelector('#df-2358a1ad-23f2-4e06-9c4a-3a22df7caa76');\n",
              "          const dataTable =\n",
              "            await google.colab.kernel.invokeFunction('convertToInteractive',\n",
              "                                                     [key], {});\n",
              "          if (!dataTable) return;\n",
              "\n",
              "          const docLinkHtml = 'Like what you see? Visit the ' +\n",
              "            '<a target=\"_blank\" href=https://colab.research.google.com/notebooks/data_table.ipynb>data table notebook</a>'\n",
              "            + ' to learn more about interactive tables.';\n",
              "          element.innerHTML = '';\n",
              "          dataTable['output_type'] = 'display_data';\n",
              "          await google.colab.output.renderOutput(dataTable, element);\n",
              "          const docLink = document.createElement('div');\n",
              "          docLink.innerHTML = docLinkHtml;\n",
              "          element.appendChild(docLink);\n",
              "        }\n",
              "      </script>\n",
              "    </div>\n",
              "  </div>\n",
              "  "
            ]
          },
          "metadata": {},
          "execution_count": 24
        }
      ]
    },
    {
      "cell_type": "code",
      "source": [
        "df.nunique()"
      ],
      "metadata": {
        "colab": {
          "base_uri": "https://localhost:8080/"
        },
        "id": "7HEyhz9ujWuS",
        "outputId": "0da81286-e9ea-47aa-c44a-05a125b7cd7c"
      },
      "execution_count": 25,
      "outputs": [
        {
          "output_type": "execute_result",
          "data": {
            "text/plain": [
              "LIMIT_BAL       81\n",
              "SEX              2\n",
              "EDUCATION        7\n",
              "MARRIAGE         4\n",
              "AGE             56\n",
              "PAY_0           11\n",
              "PAY_2           11\n",
              "PAY_3           11\n",
              "PAY_4           11\n",
              "PAY_5           10\n",
              "PAY_6           10\n",
              "BILL_AMT1    22723\n",
              "BILL_AMT2    22346\n",
              "BILL_AMT3    22026\n",
              "BILL_AMT4    21548\n",
              "BILL_AMT5    21010\n",
              "BILL_AMT6    20604\n",
              "PAY_AMT1      7943\n",
              "PAY_AMT2      7899\n",
              "PAY_AMT3      7518\n",
              "PAY_AMT4      6937\n",
              "PAY_AMT5      6897\n",
              "PAY_AMT6      6939\n",
              "DEFAULT          2\n",
              "dtype: int64"
            ]
          },
          "metadata": {},
          "execution_count": 25
        }
      ]
    },
    {
      "cell_type": "markdown",
      "source": [
        "EDUCATION, MARRIAGE, and PAY* Contains more categories than those described in the repository where the information was obtained."
      ],
      "metadata": {
        "id": "To2cCP0loCn1"
      }
    },
    {
      "cell_type": "code",
      "source": [
        "df['EDUCATION'].unique()"
      ],
      "metadata": {
        "colab": {
          "base_uri": "https://localhost:8080/"
        },
        "id": "RjTCQndNop4H",
        "outputId": "185fb365-50d3-4082-eba1-61bfa6b8d70c"
      },
      "execution_count": 26,
      "outputs": [
        {
          "output_type": "execute_result",
          "data": {
            "text/plain": [
              "array([2, 1, 3, 5, 4, 6, 0])"
            ]
          },
          "metadata": {},
          "execution_count": 26
        }
      ]
    },
    {
      "cell_type": "code",
      "source": [
        "df['EDUCATION'].value_counts()"
      ],
      "metadata": {
        "colab": {
          "base_uri": "https://localhost:8080/"
        },
        "id": "7srrfHi90fDc",
        "outputId": "0b32ae58-4e72-4905-c98d-47781c4c5e20"
      },
      "execution_count": 27,
      "outputs": [
        {
          "output_type": "execute_result",
          "data": {
            "text/plain": [
              "2    14019\n",
              "1    10563\n",
              "3     4915\n",
              "5      280\n",
              "4      123\n",
              "6       51\n",
              "0       14\n",
              "Name: EDUCATION, dtype: int64"
            ]
          },
          "metadata": {},
          "execution_count": 27
        }
      ]
    },
    {
      "cell_type": "markdown",
      "source": [
        "For variable EDUCATION, values = 0, 5 and 6 were not described in the dataset information, therefore they will be considered within the category 'Others' Considering that they are not a significant amount of data that can include 'outliers' to the data set. Another option could be to delete them but in this case it is chosen not to do so.\n"
      ],
      "metadata": {
        "id": "zm4tOjKBpCAf"
      }
    },
    {
      "cell_type": "code",
      "source": [
        "df['EDUCATION'].replace([0,5,6], 4, inplace=True)\n",
        "df['EDUCATION'].unique()"
      ],
      "metadata": {
        "colab": {
          "base_uri": "https://localhost:8080/"
        },
        "id": "8_1vp5CMrWP_",
        "outputId": "57531b85-28c5-4c98-bc77-98d08fe548f6"
      },
      "execution_count": 28,
      "outputs": [
        {
          "output_type": "execute_result",
          "data": {
            "text/plain": [
              "array([2, 1, 3, 4])"
            ]
          },
          "metadata": {},
          "execution_count": 28
        }
      ]
    },
    {
      "cell_type": "code",
      "source": [
        "df['MARRIAGE']. unique()"
      ],
      "metadata": {
        "colab": {
          "base_uri": "https://localhost:8080/"
        },
        "id": "f-dv_KTQpfmi",
        "outputId": "39f6cb34-b78b-4bf2-fdbe-549dce50a9a8"
      },
      "execution_count": 29,
      "outputs": [
        {
          "output_type": "execute_result",
          "data": {
            "text/plain": [
              "array([1, 2, 3, 0])"
            ]
          },
          "metadata": {},
          "execution_count": 29
        }
      ]
    },
    {
      "cell_type": "code",
      "source": [
        "df['MARRIAGE'].value_counts()"
      ],
      "metadata": {
        "id": "4yfIQhgz2ovA",
        "colab": {
          "base_uri": "https://localhost:8080/"
        },
        "outputId": "d2eda47a-e24e-4e5c-d8a3-2a92f60d4fab"
      },
      "execution_count": 30,
      "outputs": [
        {
          "output_type": "execute_result",
          "data": {
            "text/plain": [
              "2    15945\n",
              "1    13643\n",
              "3      323\n",
              "0       54\n",
              "Name: MARRIAGE, dtype: int64"
            ]
          },
          "metadata": {},
          "execution_count": 30
        }
      ]
    },
    {
      "cell_type": "markdown",
      "source": [
        "Similar to the previous analysis, the MARRIAGE variable does not have an associated category for the value 0, therefore it will be included in the 'Others' category."
      ],
      "metadata": {
        "id": "hO7hj7zHqLRf"
      }
    },
    {
      "cell_type": "code",
      "source": [
        "df['MARRIAGE'].replace(0, 3, inplace=True)\n",
        "df['MARRIAGE']. unique()"
      ],
      "metadata": {
        "colab": {
          "base_uri": "https://localhost:8080/"
        },
        "id": "_ro7LXajtAZW",
        "outputId": "89d8c496-6aaa-4aca-a6ea-8b6a8618987d"
      },
      "execution_count": 31,
      "outputs": [
        {
          "output_type": "execute_result",
          "data": {
            "text/plain": [
              "array([1, 2, 3])"
            ]
          },
          "metadata": {},
          "execution_count": 31
        }
      ]
    },
    {
      "cell_type": "code",
      "source": [
        "df['PAY_0'].unique()"
      ],
      "metadata": {
        "colab": {
          "base_uri": "https://localhost:8080/"
        },
        "id": "rPbPHfsJ6koG",
        "outputId": "c42993d8-b8c8-439d-e27c-5d3666e302da"
      },
      "execution_count": 32,
      "outputs": [
        {
          "output_type": "execute_result",
          "data": {
            "text/plain": [
              "array([ 2, -1,  0, -2,  1,  3,  4,  8,  7,  5,  6])"
            ]
          },
          "metadata": {},
          "execution_count": 32
        }
      ]
    },
    {
      "cell_type": "code",
      "source": [
        "df['PAY_0'].value_counts()"
      ],
      "metadata": {
        "colab": {
          "base_uri": "https://localhost:8080/"
        },
        "id": "2GA63wYX6ki_",
        "outputId": "b02160f3-aac9-430d-e115-050db6f0ae83"
      },
      "execution_count": 33,
      "outputs": [
        {
          "output_type": "execute_result",
          "data": {
            "text/plain": [
              " 0    14737\n",
              "-1     5682\n",
              " 1     3667\n",
              "-2     2750\n",
              " 2     2666\n",
              " 3      322\n",
              " 4       76\n",
              " 5       26\n",
              " 8       19\n",
              " 6       11\n",
              " 7        9\n",
              "Name: PAY_0, dtype: int64"
            ]
          },
          "metadata": {},
          "execution_count": 33
        }
      ]
    },
    {
      "cell_type": "code",
      "source": [],
      "metadata": {
        "id": "eBRZLykK6ke_"
      },
      "execution_count": 33,
      "outputs": []
    },
    {
      "cell_type": "code",
      "source": [],
      "metadata": {
        "id": "PuvQnJrz6kb2"
      },
      "execution_count": 33,
      "outputs": []
    },
    {
      "cell_type": "code",
      "source": [
        "plt.figure(figsize=(20, 3))\n",
        "sns.heatmap(df.isnull(), cbar=True, yticklabels=False, cmap=ListedColormap(['black','purple']))"
      ],
      "metadata": {
        "colab": {
          "base_uri": "https://localhost:8080/",
          "height": 281
        },
        "id": "EDBay7TOjdKv",
        "outputId": "714844b6-d3f3-4044-bdcb-7563a7836f16"
      },
      "execution_count": 34,
      "outputs": [
        {
          "output_type": "execute_result",
          "data": {
            "text/plain": [
              "<Axes: >"
            ]
          },
          "metadata": {},
          "execution_count": 34
        },
        {
          "output_type": "display_data",
          "data": {
            "text/plain": [
              "<Figure size 1440x216 with 2 Axes>"
            ],
            "image/png": "[encoded data removed]"
          },
          "metadata": {
            "needs_background": "light"
          }
        }
      ]
    },
    {
      "cell_type": "markdown",
      "source": [
        "The dataset doesn't contain null values, therefore it is not necessary to impute the data."
      ],
      "metadata": {
        "id": "qAznkzgqj87D"
      }
    }
  ]
}