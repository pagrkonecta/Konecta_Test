{
  "nbformat": 4,
  "nbformat_minor": 0,
  "metadata": {
    "colab": {
      "provenance": [],
      "toc_visible": true,
      "authorship_tag": "ABX9TyNIEwdw7lBdVw7JhhULbeSa",
      "include_colab_link": true
    },
    "kernelspec": {
      "name": "python3",
      "display_name": "Python 3"
    },
    "language_info": {
      "name": "python"
    }
  },
  "cells": [
    {
      "cell_type": "markdown",
      "metadata": {
        "id": "view-in-github",
        "colab_type": "text"
      },
      "source": [
        "<a href=\"https://colab.research.google.com/github/pagrkonecta/Konecta_Test/blob/main/Konecta_Test_PAGR.ipynb\" target=\"_parent\"><img src=\"https://colab.research.google.com/assets/colab-badge.svg\" alt=\"Open In Colab\"/></a>"
      ]
    },
    {
      "cell_type": "markdown",
      "source": [
        "\n",
        "![konecta.jpg](data:image/jpeg;base64,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)\n",
        "\n",
        "#**TECHNICAL TEST FOR THE SELECTION PROCESS OF THE COMPANY KONECTA**\n",
        "#**---------------ANALYST DATA SCIENTIST---------------**\n",
        "\n",
        "#Paola Andrea Giraldo Ramírez \n",
        "#Environmental Engineer\n",
        "#March 2023"
      ],
      "metadata": {
        "id": "5dJcwG3rroAf"
      }
    },
    {
      "cell_type": "markdown",
      "source": [
        "# Problem to be solved\n",
        "In recent years, the credit card issuers in Taiwan faced the cash and credit card debt crisis and the delinquency was expected to peak in the third quarter  of 2006 (Chou,2006). In order to increase market share, card-issuing banks in Taiwan over-issued cash and credit cards to unqualified applicants. At the same time, most cardholders, irrespective of their repayment ability, overused credit cards for consumption and accumulated heavy credit and cash–card debts. The crisis caused a blow to consumer finance confidence and it is a big challenge for both banks and cardholders."
      ],
      "metadata": {
        "id": "TS4zXjYrKQY6"
      }
    },
    {
      "cell_type": "markdown",
      "source": [
        "## Dataset"
      ],
      "metadata": {
        "id": "JB6rAA7-LbdI"
      }
    },
    {
      "cell_type": "markdown",
      "source": [
        "This data were colected between April and September 2005, from an importan bank in Taiwan which issues both cash and credit cards. The researchers used a binary variable to represent default payment, where Yes was coded as 1 and No was coded as 0. This variable was considered the response variable in the study. The dataset contains 30000 total number of instances. The data will be download and imported from UCI ML repository: \n",
        "\n",
        "https://archive.ics.uci.edu/ml/datasets/default+of+credit+card+clients \n"
      ],
      "metadata": {
        "id": "X3_kjRhQNpAO"
      }
    },
    {
      "cell_type": "markdown",
      "source": [
        "### Variables"
      ],
      "metadata": {
        "id": "j7tQQGPuTzeI"
      }
    },
    {
      "cell_type": "markdown",
      "source": [
        "This dataset has 24 variables, in which 23 are explanatory variables, some are user personal information, other related with amount of bill statement and the amount of previous payment in a specific month. Each variable will be described below: \n",
        "\n",
        "_______________________________________________\n",
        "*User personal information:*\n",
        "\n",
        "*   **ID**: Identity of each client (From 1 to 3000) - Categorical variable.\n",
        "*   **LIMIT_BAL**: Total credit (Between 1000 and 1000000, given in Taiwan Dollars) it includes both the individual consumer credit and his/her family (supplementary) credit.\n",
        "*   **SEX**: Gender (1 = Male; 2 = Female) - Categorical variable.\n",
        "*   **EDUCATION**: Level of education (0 = Unknown; 1 = Graduate school; 2 = University; 3 = High school; 4 = Others; 5 = Unknown; 6 = Unknown).\n",
        "*   **MARRIAGE**: Marital status (0 = Unknown; 1 = married; 2 = single; 3 = others) - Categorical variable.\n",
        "*   **AGE**: Age in years - Numerical variable.\n",
        "\n",
        "_______________________________________________\n",
        "*History of past payments (This variables track the past monthly payment records, i.e. the delay of the payment referred to a specific month):* \n",
        "\n",
        "*   **PAY_0**: Repayment status in September  \n",
        "*   **PAY_2**: Repayment status in August\n",
        "*   **PAY_3**: Repayment status in July\n",
        "*   **PAY_4**: Repayment status in June\n",
        "*   **PAY_5**: Repayment status in May\n",
        "*   **PAY_6**: Repayment status in April\n",
        "\n",
        "*The measurement scale for the repayment status is: -1 = pay duly; 1 = payment delay for one month; 2 = payment delay for two months; . . .; 8 = payment delay for eight months; 9 = payment delay for nine months and above.*\n",
        "\n",
        "\n",
        "_______________________________________________\n",
        "*Amount of bill statement*"
      ],
      "metadata": {
        "id": "JeYmC41rXSMw"
      }
    },
    {
      "cell_type": "code",
      "source": [],
      "metadata": {
        "id": "dhJQKUoiMSzs"
      },
      "execution_count": null,
      "outputs": []
    }
  ]
}